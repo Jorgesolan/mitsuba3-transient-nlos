{
 "cells": [
  {
   "cell_type": "code",
   "execution_count": null,
   "metadata": {
    "metadata": {}
   },
   "outputs": [],
   "source": [
    "import sys\n",
    "import os\n",
    "\n",
    "# Import mitsuba and set the variant\n",
    "# To set a variant, you need to have set it in the mitsuba.conf file\n",
    "# https://mitsuba.readthedocs.io/en/latest/src/key_topics/variants.html\n",
    "import mitsuba as mi\n",
    "mi.set_variant('llvm_ad_rgb')\n",
    "\n",
    "import drjit as dr\n",
    "\n",
    "# Import the mitsuba-transient extension\n",
    "# adds extra functionality to existing Mitsuba classes\n",
    "sys.path.insert(1, '../..')\n",
    "import mitransient as mitr"
   ]
  },
  {
   "cell_type": "code",
   "execution_count": null,
   "metadata": {
    "metadata": {}
   },
   "outputs": [],
   "source": [
    "# Load XML file\n",
    "# You can also use mi.load_dict and pass a Python dict object\n",
    "# but it is probably much easier for your work to use XML files\n",
    "scene = mi.load_file(os.path.abspath('cornell-box/cbox_diffuse_spad.xml'))"
   ]
  },
  {
   "cell_type": "code",
   "execution_count": null,
   "metadata": {},
   "outputs": [],
   "source": [
    "# Prepare transient integrator for transient path tracing\n",
    "# Does the work to initialize the scene before path tracing\n",
    "transient_integrator = scene.integrator()\n",
    "transient_integrator.prepare_transient(scene, sensor=0)\n",
    "# sensor=0 just tells it to use the first sensor in the scene\n",
    "# (in case there is more than one sensor in the XML file)"
   ]
  },
  {
   "cell_type": "code",
   "execution_count": null,
   "metadata": {},
   "outputs": [],
   "source": [
    "# Render the scene and develop the data\n",
    "# Because mitsuba works with Dr.JIT, this cell will execute\n",
    "# very fast. But when you actually read the variables\n",
    "# it will actually start computing everyting (and take a while).\n",
    "data_steady, data_transient = transient_integrator.render(scene)\n",
    "dr.eval(data_steady, data_transient)"
   ]
  },
  {
   "cell_type": "code",
   "execution_count": null,
   "metadata": {
    "metadata": {}
   },
   "outputs": [],
   "source": [
    "# Plot the computed steady image\n",
    "mi.util.convert_to_bitmap(data_steady)"
   ]
  },
  {
   "cell_type": "code",
   "execution_count": null,
   "metadata": {
    "metadata": {}
   },
   "outputs": [],
   "source": [
    "import numpy as np\n",
    "\n",
    "data_max = np.max(data_transient)\n",
    "\n",
    "mitr.utils.show_video((np.moveaxis(data_transient, 0, 1) / data_max) ** (1.0 / 6.0), 2)\n",
    "# mitr.utils.save_frames((np.moveaxis(data_transient, 0, 1) / data_max) ** (1.0 / 6.0), 2,'/home/jsolan/video')"
   ]
  }
 ],
 "metadata": {
  "kernelspec": {
   "display_name": "mitsuba3-py3.11",
   "language": "python",
   "name": "python3"
  },
  "language_info": {
   "codemirror_mode": {
    "name": "ipython",
    "version": 3
   },
   "file_extension": ".py",
   "mimetype": "text/x-python",
   "name": "python",
   "nbconvert_exporter": "python",
   "pygments_lexer": "ipython3",
   "version": "3.10.12"
  },
  "orig_nbformat": 4
 },
 "nbformat": 4,
 "nbformat_minor": 2
}
